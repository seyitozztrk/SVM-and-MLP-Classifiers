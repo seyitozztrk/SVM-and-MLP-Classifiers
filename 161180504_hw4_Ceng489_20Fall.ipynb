{
 "cells": [
  {
   "cell_type": "markdown",
   "metadata": {
    "id": "ig6Icfd6pXGJ"
   },
   "source": [
    "# **CENG 489 Data Mining**\n",
    "\n",
    "\n",
    "### Assignment 4 - SVM and MLP classifiers\n",
    "### Due: January 16 by 11:59pm"
   ]
  },
  {
   "cell_type": "markdown",
   "metadata": {
    "id": "yVhVlgnuKp5Z"
   },
   "source": [
    "This assignment is suggested to complete on Google colab  (https://colab.research.google.com/) to benefit from its GPU support. "
   ]
  },
  {
   "cell_type": "code",
   "execution_count": 1,
   "metadata": {
    "id": "f6iKIVz6OOwP"
   },
   "outputs": [],
   "source": [
    "# importing common libraries\n",
    "import os\n",
    "import numpy as np\n",
    "\n",
    "import matplotlib\n",
    "import matplotlib.pyplot as plt\n",
    "import seaborn as sb\n",
    "%matplotlib inline"
   ]
  },
  {
   "cell_type": "markdown",
   "metadata": {
    "id": "AQwOfTcEpbD1"
   },
   "source": [
    "#### **Part 1: Linear SVM Classifier**"
   ]
  },
  {
   "cell_type": "markdown",
   "metadata": {
    "id": "sKWC0Gt9plH8"
   },
   "source": [
    " Binary classification on given dataset"
   ]
  },
  {
   "cell_type": "code",
   "execution_count": null,
   "metadata": {
    "id": "Qbjt6EVNgiLI"
   },
   "outputs": [],
   "source": []
  },
  {
   "cell_type": "code",
   "execution_count": 2,
   "metadata": {
    "id": "Gi85KchigiLI"
   },
   "outputs": [],
   "source": [
    "from sklearn import datasets\n",
    "from sklearn.model_selection import train_test_split\n",
    "import pandas as pd "
   ]
  },
  {
   "cell_type": "code",
   "execution_count": 3,
   "metadata": {
    "colab": {
     "base_uri": "https://localhost:8080/"
    },
    "id": "4P7Nx81WOOwX",
    "outputId": "8fac388d-b1ab-4f43-dfe9-71abc1e59454"
   },
   "outputs": [
    {
     "name": "stdout",
     "output_type": "stream",
     "text": [
      "(91, 2)\n",
      "(39, 2)\n",
      "(91,)\n",
      "(39,)\n"
     ]
    }
   ],
   "source": [
    "data = datasets.load_wine()\n",
    "df = pd.DataFrame(data.data, columns=data.feature_names)\n",
    "df['target'] = data.target\n",
    "\n",
    "# store instances with second and third attibutes as x\n",
    "x = df[df.target!=2].iloc[:,1:3].values\n",
    "\n",
    "# store labels as y\n",
    "y = df[df.target!=2].iloc[:,-1].values\n",
    "\n",
    "# get a subset of data for binary clasification (with all instances from class 0 and class 1, not from class 2)\n",
    "zero_target = df[df.target==0].iloc[:,1:3].to_numpy()\n",
    "one_target = df[df.target==1].iloc[:,1:3].to_numpy()\n",
    "\n",
    "\n",
    "\n",
    "#split your dataset in train (%70) and test-set (%30)\n",
    "X_train, X_test, y_train, y_test = train_test_split(x, y, test_size=0.3)\n",
    "print(X_train.shape)\n",
    "print(X_test.shape)\n",
    "print(y_train.shape)\n",
    "print(y_test.shape)\n",
    "\n",
    "# we must convert 0 values to -1 for svm classifier"
   ]
  },
  {
   "cell_type": "code",
   "execution_count": 4,
   "metadata": {
    "colab": {
     "base_uri": "https://localhost:8080/",
     "height": 450
    },
    "id": "6FetQI9TgiLM",
    "outputId": "7dc9b604-65c8-49ce-9ab0-916c0c6dab4a"
   },
   "outputs": [
    {
     "data": {
      "text/html": [
       "<div>\n",
       "<style scoped>\n",
       "    .dataframe tbody tr th:only-of-type {\n",
       "        vertical-align: middle;\n",
       "    }\n",
       "\n",
       "    .dataframe tbody tr th {\n",
       "        vertical-align: top;\n",
       "    }\n",
       "\n",
       "    .dataframe thead th {\n",
       "        text-align: right;\n",
       "    }\n",
       "</style>\n",
       "<table border=\"1\" class=\"dataframe\">\n",
       "  <thead>\n",
       "    <tr style=\"text-align: right;\">\n",
       "      <th></th>\n",
       "      <th>alcohol</th>\n",
       "      <th>malic_acid</th>\n",
       "      <th>ash</th>\n",
       "      <th>alcalinity_of_ash</th>\n",
       "      <th>magnesium</th>\n",
       "      <th>total_phenols</th>\n",
       "      <th>flavanoids</th>\n",
       "      <th>nonflavanoid_phenols</th>\n",
       "      <th>proanthocyanins</th>\n",
       "      <th>color_intensity</th>\n",
       "      <th>hue</th>\n",
       "      <th>od280/od315_of_diluted_wines</th>\n",
       "      <th>proline</th>\n",
       "      <th>target</th>\n",
       "    </tr>\n",
       "  </thead>\n",
       "  <tbody>\n",
       "    <tr>\n",
       "      <th>alcohol</th>\n",
       "      <td>1.000000</td>\n",
       "      <td>0.094397</td>\n",
       "      <td>0.211545</td>\n",
       "      <td>-0.310235</td>\n",
       "      <td>0.270798</td>\n",
       "      <td>0.289101</td>\n",
       "      <td>0.236815</td>\n",
       "      <td>-0.155929</td>\n",
       "      <td>0.136698</td>\n",
       "      <td>0.546364</td>\n",
       "      <td>-0.071747</td>\n",
       "      <td>0.072343</td>\n",
       "      <td>0.643720</td>\n",
       "      <td>-0.328222</td>\n",
       "    </tr>\n",
       "    <tr>\n",
       "      <th>malic_acid</th>\n",
       "      <td>0.094397</td>\n",
       "      <td>1.000000</td>\n",
       "      <td>0.164045</td>\n",
       "      <td>0.288500</td>\n",
       "      <td>-0.054575</td>\n",
       "      <td>-0.335167</td>\n",
       "      <td>-0.411007</td>\n",
       "      <td>0.292977</td>\n",
       "      <td>-0.220746</td>\n",
       "      <td>0.248985</td>\n",
       "      <td>-0.561296</td>\n",
       "      <td>-0.368710</td>\n",
       "      <td>-0.192011</td>\n",
       "      <td>0.437776</td>\n",
       "    </tr>\n",
       "    <tr>\n",
       "      <th>ash</th>\n",
       "      <td>0.211545</td>\n",
       "      <td>0.164045</td>\n",
       "      <td>1.000000</td>\n",
       "      <td>0.443367</td>\n",
       "      <td>0.286587</td>\n",
       "      <td>0.128980</td>\n",
       "      <td>0.115077</td>\n",
       "      <td>0.186230</td>\n",
       "      <td>0.009652</td>\n",
       "      <td>0.258887</td>\n",
       "      <td>-0.074667</td>\n",
       "      <td>0.003911</td>\n",
       "      <td>0.223626</td>\n",
       "      <td>-0.049643</td>\n",
       "    </tr>\n",
       "    <tr>\n",
       "      <th>alcalinity_of_ash</th>\n",
       "      <td>-0.310235</td>\n",
       "      <td>0.288500</td>\n",
       "      <td>0.443367</td>\n",
       "      <td>1.000000</td>\n",
       "      <td>-0.083333</td>\n",
       "      <td>-0.321113</td>\n",
       "      <td>-0.351370</td>\n",
       "      <td>0.361922</td>\n",
       "      <td>-0.197327</td>\n",
       "      <td>0.018732</td>\n",
       "      <td>-0.273955</td>\n",
       "      <td>-0.276769</td>\n",
       "      <td>-0.440597</td>\n",
       "      <td>0.517859</td>\n",
       "    </tr>\n",
       "    <tr>\n",
       "      <th>magnesium</th>\n",
       "      <td>0.270798</td>\n",
       "      <td>-0.054575</td>\n",
       "      <td>0.286587</td>\n",
       "      <td>-0.083333</td>\n",
       "      <td>1.000000</td>\n",
       "      <td>0.214401</td>\n",
       "      <td>0.195784</td>\n",
       "      <td>-0.256294</td>\n",
       "      <td>0.236441</td>\n",
       "      <td>0.199950</td>\n",
       "      <td>0.055398</td>\n",
       "      <td>0.066004</td>\n",
       "      <td>0.393351</td>\n",
       "      <td>-0.209179</td>\n",
       "    </tr>\n",
       "    <tr>\n",
       "      <th>total_phenols</th>\n",
       "      <td>0.289101</td>\n",
       "      <td>-0.335167</td>\n",
       "      <td>0.128980</td>\n",
       "      <td>-0.321113</td>\n",
       "      <td>0.214401</td>\n",
       "      <td>1.000000</td>\n",
       "      <td>0.864564</td>\n",
       "      <td>-0.449935</td>\n",
       "      <td>0.612413</td>\n",
       "      <td>-0.055136</td>\n",
       "      <td>0.433681</td>\n",
       "      <td>0.699949</td>\n",
       "      <td>0.498115</td>\n",
       "      <td>-0.719163</td>\n",
       "    </tr>\n",
       "    <tr>\n",
       "      <th>flavanoids</th>\n",
       "      <td>0.236815</td>\n",
       "      <td>-0.411007</td>\n",
       "      <td>0.115077</td>\n",
       "      <td>-0.351370</td>\n",
       "      <td>0.195784</td>\n",
       "      <td>0.864564</td>\n",
       "      <td>1.000000</td>\n",
       "      <td>-0.537900</td>\n",
       "      <td>0.652692</td>\n",
       "      <td>-0.172379</td>\n",
       "      <td>0.543479</td>\n",
       "      <td>0.787194</td>\n",
       "      <td>0.494193</td>\n",
       "      <td>-0.847498</td>\n",
       "    </tr>\n",
       "    <tr>\n",
       "      <th>nonflavanoid_phenols</th>\n",
       "      <td>-0.155929</td>\n",
       "      <td>0.292977</td>\n",
       "      <td>0.186230</td>\n",
       "      <td>0.361922</td>\n",
       "      <td>-0.256294</td>\n",
       "      <td>-0.449935</td>\n",
       "      <td>-0.537900</td>\n",
       "      <td>1.000000</td>\n",
       "      <td>-0.365845</td>\n",
       "      <td>0.139057</td>\n",
       "      <td>-0.262640</td>\n",
       "      <td>-0.503270</td>\n",
       "      <td>-0.311385</td>\n",
       "      <td>0.489109</td>\n",
       "    </tr>\n",
       "    <tr>\n",
       "      <th>proanthocyanins</th>\n",
       "      <td>0.136698</td>\n",
       "      <td>-0.220746</td>\n",
       "      <td>0.009652</td>\n",
       "      <td>-0.197327</td>\n",
       "      <td>0.236441</td>\n",
       "      <td>0.612413</td>\n",
       "      <td>0.652692</td>\n",
       "      <td>-0.365845</td>\n",
       "      <td>1.000000</td>\n",
       "      <td>-0.025250</td>\n",
       "      <td>0.295544</td>\n",
       "      <td>0.519067</td>\n",
       "      <td>0.330417</td>\n",
       "      <td>-0.499130</td>\n",
       "    </tr>\n",
       "    <tr>\n",
       "      <th>color_intensity</th>\n",
       "      <td>0.546364</td>\n",
       "      <td>0.248985</td>\n",
       "      <td>0.258887</td>\n",
       "      <td>0.018732</td>\n",
       "      <td>0.199950</td>\n",
       "      <td>-0.055136</td>\n",
       "      <td>-0.172379</td>\n",
       "      <td>0.139057</td>\n",
       "      <td>-0.025250</td>\n",
       "      <td>1.000000</td>\n",
       "      <td>-0.521813</td>\n",
       "      <td>-0.428815</td>\n",
       "      <td>0.316100</td>\n",
       "      <td>0.265668</td>\n",
       "    </tr>\n",
       "    <tr>\n",
       "      <th>hue</th>\n",
       "      <td>-0.071747</td>\n",
       "      <td>-0.561296</td>\n",
       "      <td>-0.074667</td>\n",
       "      <td>-0.273955</td>\n",
       "      <td>0.055398</td>\n",
       "      <td>0.433681</td>\n",
       "      <td>0.543479</td>\n",
       "      <td>-0.262640</td>\n",
       "      <td>0.295544</td>\n",
       "      <td>-0.521813</td>\n",
       "      <td>1.000000</td>\n",
       "      <td>0.565468</td>\n",
       "      <td>0.236183</td>\n",
       "      <td>-0.617369</td>\n",
       "    </tr>\n",
       "    <tr>\n",
       "      <th>od280/od315_of_diluted_wines</th>\n",
       "      <td>0.072343</td>\n",
       "      <td>-0.368710</td>\n",
       "      <td>0.003911</td>\n",
       "      <td>-0.276769</td>\n",
       "      <td>0.066004</td>\n",
       "      <td>0.699949</td>\n",
       "      <td>0.787194</td>\n",
       "      <td>-0.503270</td>\n",
       "      <td>0.519067</td>\n",
       "      <td>-0.428815</td>\n",
       "      <td>0.565468</td>\n",
       "      <td>1.000000</td>\n",
       "      <td>0.312761</td>\n",
       "      <td>-0.788230</td>\n",
       "    </tr>\n",
       "    <tr>\n",
       "      <th>proline</th>\n",
       "      <td>0.643720</td>\n",
       "      <td>-0.192011</td>\n",
       "      <td>0.223626</td>\n",
       "      <td>-0.440597</td>\n",
       "      <td>0.393351</td>\n",
       "      <td>0.498115</td>\n",
       "      <td>0.494193</td>\n",
       "      <td>-0.311385</td>\n",
       "      <td>0.330417</td>\n",
       "      <td>0.316100</td>\n",
       "      <td>0.236183</td>\n",
       "      <td>0.312761</td>\n",
       "      <td>1.000000</td>\n",
       "      <td>-0.633717</td>\n",
       "    </tr>\n",
       "    <tr>\n",
       "      <th>target</th>\n",
       "      <td>-0.328222</td>\n",
       "      <td>0.437776</td>\n",
       "      <td>-0.049643</td>\n",
       "      <td>0.517859</td>\n",
       "      <td>-0.209179</td>\n",
       "      <td>-0.719163</td>\n",
       "      <td>-0.847498</td>\n",
       "      <td>0.489109</td>\n",
       "      <td>-0.499130</td>\n",
       "      <td>0.265668</td>\n",
       "      <td>-0.617369</td>\n",
       "      <td>-0.788230</td>\n",
       "      <td>-0.633717</td>\n",
       "      <td>1.000000</td>\n",
       "    </tr>\n",
       "  </tbody>\n",
       "</table>\n",
       "</div>"
      ],
      "text/plain": [
       "                               alcohol  malic_acid       ash  \\\n",
       "alcohol                       1.000000    0.094397  0.211545   \n",
       "malic_acid                    0.094397    1.000000  0.164045   \n",
       "ash                           0.211545    0.164045  1.000000   \n",
       "alcalinity_of_ash            -0.310235    0.288500  0.443367   \n",
       "magnesium                     0.270798   -0.054575  0.286587   \n",
       "total_phenols                 0.289101   -0.335167  0.128980   \n",
       "flavanoids                    0.236815   -0.411007  0.115077   \n",
       "nonflavanoid_phenols         -0.155929    0.292977  0.186230   \n",
       "proanthocyanins               0.136698   -0.220746  0.009652   \n",
       "color_intensity               0.546364    0.248985  0.258887   \n",
       "hue                          -0.071747   -0.561296 -0.074667   \n",
       "od280/od315_of_diluted_wines  0.072343   -0.368710  0.003911   \n",
       "proline                       0.643720   -0.192011  0.223626   \n",
       "target                       -0.328222    0.437776 -0.049643   \n",
       "\n",
       "                              alcalinity_of_ash  magnesium  total_phenols  \\\n",
       "alcohol                               -0.310235   0.270798       0.289101   \n",
       "malic_acid                             0.288500  -0.054575      -0.335167   \n",
       "ash                                    0.443367   0.286587       0.128980   \n",
       "alcalinity_of_ash                      1.000000  -0.083333      -0.321113   \n",
       "magnesium                             -0.083333   1.000000       0.214401   \n",
       "total_phenols                         -0.321113   0.214401       1.000000   \n",
       "flavanoids                            -0.351370   0.195784       0.864564   \n",
       "nonflavanoid_phenols                   0.361922  -0.256294      -0.449935   \n",
       "proanthocyanins                       -0.197327   0.236441       0.612413   \n",
       "color_intensity                        0.018732   0.199950      -0.055136   \n",
       "hue                                   -0.273955   0.055398       0.433681   \n",
       "od280/od315_of_diluted_wines          -0.276769   0.066004       0.699949   \n",
       "proline                               -0.440597   0.393351       0.498115   \n",
       "target                                 0.517859  -0.209179      -0.719163   \n",
       "\n",
       "                              flavanoids  nonflavanoid_phenols  \\\n",
       "alcohol                         0.236815             -0.155929   \n",
       "malic_acid                     -0.411007              0.292977   \n",
       "ash                             0.115077              0.186230   \n",
       "alcalinity_of_ash              -0.351370              0.361922   \n",
       "magnesium                       0.195784             -0.256294   \n",
       "total_phenols                   0.864564             -0.449935   \n",
       "flavanoids                      1.000000             -0.537900   \n",
       "nonflavanoid_phenols           -0.537900              1.000000   \n",
       "proanthocyanins                 0.652692             -0.365845   \n",
       "color_intensity                -0.172379              0.139057   \n",
       "hue                             0.543479             -0.262640   \n",
       "od280/od315_of_diluted_wines    0.787194             -0.503270   \n",
       "proline                         0.494193             -0.311385   \n",
       "target                         -0.847498              0.489109   \n",
       "\n",
       "                              proanthocyanins  color_intensity       hue  \\\n",
       "alcohol                              0.136698         0.546364 -0.071747   \n",
       "malic_acid                          -0.220746         0.248985 -0.561296   \n",
       "ash                                  0.009652         0.258887 -0.074667   \n",
       "alcalinity_of_ash                   -0.197327         0.018732 -0.273955   \n",
       "magnesium                            0.236441         0.199950  0.055398   \n",
       "total_phenols                        0.612413        -0.055136  0.433681   \n",
       "flavanoids                           0.652692        -0.172379  0.543479   \n",
       "nonflavanoid_phenols                -0.365845         0.139057 -0.262640   \n",
       "proanthocyanins                      1.000000        -0.025250  0.295544   \n",
       "color_intensity                     -0.025250         1.000000 -0.521813   \n",
       "hue                                  0.295544        -0.521813  1.000000   \n",
       "od280/od315_of_diluted_wines         0.519067        -0.428815  0.565468   \n",
       "proline                              0.330417         0.316100  0.236183   \n",
       "target                              -0.499130         0.265668 -0.617369   \n",
       "\n",
       "                              od280/od315_of_diluted_wines   proline    target  \n",
       "alcohol                                           0.072343  0.643720 -0.328222  \n",
       "malic_acid                                       -0.368710 -0.192011  0.437776  \n",
       "ash                                               0.003911  0.223626 -0.049643  \n",
       "alcalinity_of_ash                                -0.276769 -0.440597  0.517859  \n",
       "magnesium                                         0.066004  0.393351 -0.209179  \n",
       "total_phenols                                     0.699949  0.498115 -0.719163  \n",
       "flavanoids                                        0.787194  0.494193 -0.847498  \n",
       "nonflavanoid_phenols                             -0.503270 -0.311385  0.489109  \n",
       "proanthocyanins                                   0.519067  0.330417 -0.499130  \n",
       "color_intensity                                  -0.428815  0.316100  0.265668  \n",
       "hue                                               0.565468  0.236183 -0.617369  \n",
       "od280/od315_of_diluted_wines                      1.000000  0.312761 -0.788230  \n",
       "proline                                           0.312761  1.000000 -0.633717  \n",
       "target                                           -0.788230 -0.633717  1.000000  "
      ]
     },
     "execution_count": 4,
     "metadata": {},
     "output_type": "execute_result"
    }
   ],
   "source": [
    "df.corr()"
   ]
  },
  {
   "cell_type": "code",
   "execution_count": 5,
   "metadata": {
    "colab": {
     "base_uri": "https://localhost:8080/",
     "height": 296
    },
    "id": "XdlOmW-_giLN",
    "outputId": "529414b8-3f32-4616-ec2f-e5c933f7bcf0"
   },
   "outputs": [
    {
     "data": {
      "text/plain": [
       "<matplotlib.collections.PathCollection at 0x7f2e1c6a3cd0>"
      ]
     },
     "execution_count": 5,
     "metadata": {},
     "output_type": "execute_result"
    },
    {
     "data": {
      "image/png": "[encoded data removed]",
      "text/plain": [
       "<Figure size 432x288 with 1 Axes>"
      ]
     },
     "metadata": {
      "needs_background": "light"
     },
     "output_type": "display_data"
    }
   ],
   "source": [
    "\n",
    "plt.xlabel('malic_acid')\n",
    "plt.ylabel('ash')\n",
    "plt.scatter(zero_target[:,0], zero_target[:,1], color='red', marker='*')\n",
    "plt.scatter(one_target[:,0], one_target[:,1], color='green', marker='x')\n",
    "# plt.scatter(zero_target[:,1], zero_target[:,2], color='red', marker='+')"
   ]
  },
  {
   "cell_type": "code",
   "execution_count": 6,
   "metadata": {
    "colab": {
     "base_uri": "https://localhost:8080/"
    },
    "id": "x1ly2mZ4OOwY",
    "outputId": "21337c9d-e498-44b4-b57d-47944cc226ad",
    "scrolled": true
   },
   "outputs": [
    {
     "name": "stdout",
     "output_type": "stream",
     "text": [
      "[[ 9  5]\n",
      " [10 15]]\n"
     ]
    },
    {
     "data": {
      "text/plain": [
       "0.6153846153846154"
      ]
     },
     "execution_count": 6,
     "metadata": {},
     "output_type": "execute_result"
    }
   ],
   "source": [
    "from sklearn import svm\n",
    "from sklearn.metrics import confusion_matrix, accuracy_score\n",
    "\n",
    "# classify with SVM Linear Classifier model\n",
    "svm_classifier = svm.SVC(kernel='linear')\n",
    "\n",
    "svm_classifier.fit(X_train, y_train)\n",
    "\n",
    "\n",
    "# Model Accuracy: how often is the classifier correct?\n",
    "y_pred = svm_classifier.predict(X_test)\n",
    "\n",
    "confusion_matrix = confusion_matrix(y_test, y_pred)\n",
    "print(confusion_matrix)\n",
    "accuracy_score(y_test,y_pred)\n",
    "\n"
   ]
  },
  {
   "cell_type": "code",
   "execution_count": 7,
   "metadata": {
    "id": "gB15dvFROOwY",
    "scrolled": false
   },
   "outputs": [],
   "source": [
    "# def plot_svm_decision_boundary(classifier,xmin,xmax,control):\n",
    "    \n",
    "#     #weights\n",
    "#     w = classifier.coef_[0]\n",
    "#     print(w)\n",
    "#     #intercept\n",
    "#     #b\n",
    "#     b = classifier.intercept_[0]\n",
    "    \n",
    "#     #a\n",
    "#     a = -w[0]/w[1]\n",
    "\n",
    "#     x0 = np.linspace(xmin,xmax)\n",
    "    \n",
    "#     # y = a*x - b\n",
    "#     decision_line =a*x0 - b/w[1]\n",
    "    \n",
    "#     plt.plot(x0, decision_line, 'k-')\n",
    "    \n",
    "#     if control == 0:\n",
    "#         plt.scatter(X_train[:, 0], X_train[:, 1], c = y_train, cmap='winter')\n",
    "#     else:\n",
    "#         plt.scatter(X_train_[:, 0], X_train_[:, 1], c = y_train, cmap='winter')\n",
    "    \n",
    "#     up_decision_line = decision_line + 1/w[1]\n",
    "#     down_decision_line = decision_line - 1/w[1]\n",
    "\n",
    "#     plt.plot(x0,up_decision_line,\n",
    "#         x0,down_decision_line,color='grey', linestyle='--')\n",
    "\n",
    "#     plt.show()"
   ]
  },
  {
   "cell_type": "code",
   "execution_count": 8,
   "metadata": {
    "colab": {
     "base_uri": "https://localhost:8080/",
     "height": 280
    },
    "id": "SBGF2ThcgiLS",
    "outputId": "7091c6d3-4025-40bf-bf85-e2d5ae0ff293"
   },
   "outputs": [
    {
     "data": {
      "image/png": "[encoded data removed]",
      "text/plain": [
       "<Figure size 432x288 with 1 Axes>"
      ]
     },
     "metadata": {
      "needs_background": "light"
     },
     "output_type": "display_data"
    }
   ],
   "source": [
    "def plot_svm_decision_boundary(classifier,xmin,xmax, control):\n",
    "    \n",
    "    #weights\n",
    "    w = classifier.coef_[0]\n",
    "#     print(w)\n",
    "    #intercept\n",
    "    #b\n",
    "    b = classifier.intercept_[0]\n",
    "    \n",
    "    #a\n",
    "    a = -w[0]/w[1]\n",
    "    \n",
    "    x0 = np.linspace(xmin,xmax)\n",
    "    \n",
    "    # y = a*x - b\n",
    "    decision_line =a*x0 - b/w[1]\n",
    "    \n",
    "    plt.plot(x0, decision_line, 'k-')\n",
    "    if control == 0:\n",
    "        plt.scatter(X_train[:, 0], X_train[:, 1], c = y_train, cmap='winter')\n",
    "    else:\n",
    "        plt.scatter(X_train_[:, 0], X_train_[:, 1], c = y_train, cmap='winter')\n",
    "    \n",
    "    up_decision_line = decision_line + 1/w[1]\n",
    "    down_decision_line = decision_line - 1/w[1]\n",
    "\n",
    "    plt.plot(x0,up_decision_line,\n",
    "        x0,down_decision_line,color='purple', linestyle='--'\n",
    "                )\n",
    "    plt.xlabel('malic_acid')\n",
    "    plt.ylabel('ash')\n",
    "\n",
    "    \n",
    "    plt.show()\n",
    "    \n",
    "    \n",
    "\n",
    "    \n",
    "plot_svm_decision_boundary(svm_classifier, 0,6, 0 )\n",
    "\n"
   ]
  },
  {
   "cell_type": "code",
   "execution_count": 9,
   "metadata": {
    "colab": {
     "base_uri": "https://localhost:8080/",
     "height": 280
    },
    "id": "VfGviqZNOOwZ",
    "outputId": "0e554fb9-0b90-4bc7-d3d7-68949376b091"
   },
   "outputs": [
    {
     "data": {
      "image/png": "[encoded data removed]",
      "text/plain": [
       "<Figure size 432x288 with 1 Axes>"
      ]
     },
     "metadata": {
      "needs_background": "light"
     },
     "output_type": "display_data"
    }
   ],
   "source": [
    "# call plot_svm_decision_boundary function for plotting decision boundary margings and suopprt vectors\n",
    "plot_svm_decision_boundary(svm_classifier, 0,6 , 0)\n",
    "#plot_svm_decision_boundary()\n",
    "#plot also 2d data point for each class with different colored markers\n"
   ]
  },
  {
   "cell_type": "markdown",
   "metadata": {
    "id": "87eO6be0OOwb"
   },
   "source": [
    "Classify with Linear SVM on scaled and  also unscaled data, compare their decision boundaries using your plot_svm_decision_boundary function"
   ]
  },
  {
   "cell_type": "code",
   "execution_count": 10,
   "metadata": {
    "colab": {
     "base_uri": "https://localhost:8080/",
     "height": 591
    },
    "id": "SzJISBGnOOwb",
    "outputId": "66b6ddee-64c9-4201-af64-aa58878f4db4"
   },
   "outputs": [
    {
     "name": "stdout",
     "output_type": "stream",
     "text": [
      "UNSCALED\n"
     ]
    },
    {
     "data": {
      "image/png": "[encoded data removed]",
      "text/plain": [
       "<Figure size 432x288 with 1 Axes>"
      ]
     },
     "metadata": {
      "needs_background": "light"
     },
     "output_type": "display_data"
    },
    {
     "name": "stdout",
     "output_type": "stream",
     "text": [
      "SCALED\n",
      "accuracy of scaled data 0.5897435897435898\n"
     ]
    },
    {
     "data": {
      "image/png": "[encoded data removed]",
      "text/plain": [
       "<Figure size 432x288 with 1 Axes>"
      ]
     },
     "metadata": {
      "needs_background": "light"
     },
     "output_type": "display_data"
    }
   ],
   "source": [
    "from sklearn.preprocessing import StandardScaler\n",
    "scaler = StandardScaler()\n",
    "# svm classfier on unscaled data\n",
    "# plot data points and decision boundaries\n",
    "# to-do\n",
    "print(\"UNSCALED\")\n",
    "plot_svm_decision_boundary(svm_classifier, x.min().min(), x.max().max(), 0 )\n",
    "\n",
    "\n",
    "# svm classfier on scaled data\n",
    "# plot data points and decision boundaries\n",
    "# to-do\n",
    "print(\"SCALED\")\n",
    "X_train_ = scaler.fit(X_train).transform(X_train)\n",
    "x_test = scaler.transform(X_test)\n",
    "\n",
    "scaler_svm_classification = svm.SVC(kernel='linear')\n",
    "scaler_svm_classification.fit(X_train_ , y_train)\n",
    "\n",
    "scaled_pred = scaler_svm_classification.predict(x_test)\n",
    "print('accuracy of scaled data', accuracy_score(y_test, scaled_pred))\n",
    "plot_svm_decision_boundary(scaler_svm_classification, X_train_.min().min(), X_train_.max().max(), 1)\n"
   ]
  },
  {
   "cell_type": "code",
   "execution_count": 11,
   "metadata": {
    "colab": {
     "base_uri": "https://localhost:8080/"
    },
    "id": "FjPPui8AZ0rq",
    "outputId": "bdbdc7b8-b8ba-4f8b-c8da-a834c3305d62"
   },
   "outputs": [
    {
     "name": "stdout",
     "output_type": "stream",
     "text": [
      "Accuracy Score :  0.6153846153846154\n"
     ]
    }
   ],
   "source": [
    "# get a test score using unscaled SVM classifier\n",
    "print('Accuracy Score : ', accuracy_score(y_test,y_pred))\n"
   ]
  },
  {
   "cell_type": "markdown",
   "metadata": {
    "id": "qrfj2chX2ZZp"
   },
   "source": [
    " #### **Part 2: NonLinear SVM**"
   ]
  },
  {
   "cell_type": "markdown",
   "metadata": {
    "id": "apiJo17hOOwc"
   },
   "source": [
    "Compare Linear and Kernel Multi-class SVMs"
   ]
  },
  {
   "cell_type": "code",
   "execution_count": 12,
   "metadata": {
    "colab": {
     "base_uri": "https://localhost:8080/",
     "height": 808
    },
    "id": "B5WxgkWWOOwc",
    "outputId": "37e09474-fa2e-4507-9607-2aafdf56bed3"
   },
   "outputs": [
    {
     "data": {
      "image/png": "[encoded data removed]",
      "text/plain": [
       "<Figure size 432x288 with 1 Axes>"
      ]
     },
     "metadata": {
      "needs_background": "light"
     },
     "output_type": "display_data"
    },
    {
     "data": {
      "image/png": "[encoded data removed]",
      "text/plain": [
       "<Figure size 432x288 with 1 Axes>"
      ]
     },
     "metadata": {
      "needs_background": "light"
     },
     "output_type": "display_data"
    },
    {
     "data": {
      "image/png": "[encoded data removed]",
      "text/plain": [
       "<Figure size 432x288 with 1 Axes>"
      ]
     },
     "metadata": {
      "needs_background": "light"
     },
     "output_type": "display_data"
    }
   ],
   "source": [
    "data = datasets.load_wine()\n",
    "df = pd.DataFrame(data.data, columns=data.feature_names)\n",
    "df['target'] = data.target\n",
    "\n",
    "# store instances with second and third attibutes as x\n",
    "x = df[df.target!=0].iloc[:,1:3].values\n",
    "\n",
    "# store labels as y\n",
    "y = df[df.target!=0].iloc[:,-1].values\n",
    "\n",
    "# get a subset of data for binary clasification (with all instances from class 0 and class 1, not from class 2)\n",
    "zero_target = df[df.target==0].iloc[:,1:3].to_numpy()\n",
    "one_target = df[df.target==1].iloc[:,1:3].to_numpy()\n",
    "\n",
    "\n",
    "\n",
    "#split your dataset in train (%70) and test-set (%30)\n",
    "X_train, X_test, y_train, y_test = train_test_split(x, y, test_size=0.3)\n",
    "\n",
    "C = 1.0  \n",
    "svc = svm.SVC(kernel='linear', C=C).fit(X_train, y_train)\n",
    "rbf_svc = svm.SVC(kernel='rbf', gamma=1, C=C).fit(X_train, y_train)\n",
    "poly_svc = svm.SVC(kernel='poly', degree=3, C=C).fit(X_train, y_train)\n",
    "sigmoid_fun = svm.SVC(kernel='sigmoid', C=C).fit(X_train, y_train)\n",
    "\n",
    "\n",
    "def plot_decision_boundary(model, ax=None):\n",
    "    if ax is None:\n",
    "        ax = plt.gca()\n",
    "        \n",
    "    xlim = ax.get_xlim()\n",
    "    ylim = ax.get_ylim()\n",
    "    \n",
    "    # create grid to evaluate model\n",
    "    x = np.linspace(xlim[0], xlim[1], 30)\n",
    "    y = np.linspace(ylim[0], ylim[1], 30)\n",
    "    Y, X = np.meshgrid(y, x)\n",
    "\n",
    "\t# shape data\n",
    "    xy = np.vstack([X.ravel(), Y.ravel()]).T\n",
    "    \n",
    "\t# get the decision boundary based on the model\n",
    "    P = model.decision_function(xy).reshape(X.shape)\n",
    "    \n",
    "    # plot decision boundary\n",
    "    ax.contour(X, Y, P,\n",
    "               levels=[0], alpha=0.5,\n",
    "               linestyles=['-'])\n",
    "# Plot also the training points\n",
    "# plot data and decision boundary\n",
    "# add the titles for each plots\n",
    "plt.scatter(svc.support_vectors_[:, 0], svc.support_vectors_[:, 1], c='r', s=50)\n",
    "plot_decision_boundary(svc)\n",
    "plt.scatter(svc.support_vectors_[:, 0], svc.support_vectors_[:, 1], s=50, lw=1, facecolors='none')\n",
    "plt.title('Linear')\n",
    "plt.show()\n",
    "plt.scatter(rbf_svc.support_vectors_[:, 0], rbf_svc.support_vectors_[:, 1], c='r', s=50)\n",
    "plot_decision_boundary(rbf_svc)\n",
    "plt.scatter(rbf_svc.support_vectors_[:, 0], rbf_svc.support_vectors_[:, 1], s=50, lw=1, facecolors='none')\n",
    "plt.title('RBF')\n",
    "\n",
    "plt.show()\n",
    "plt.scatter(poly_svc.support_vectors_[:, 0], poly_svc.support_vectors_[:, 1], c='r', s=50)\n",
    "plot_decision_boundary(poly_svc)\n",
    "plt.scatter(poly_svc.support_vectors_[:, 0], poly_svc.support_vectors_[:, 1], s=50, lw=1, facecolors='none')\n",
    "plt.title('Polynomial')\n",
    "\n",
    "\n",
    "plt.show()"
   ]
  },
  {
   "cell_type": "code",
   "execution_count": 13,
   "metadata": {
    "colab": {
     "base_uri": "https://localhost:8080/"
    },
    "id": "s8PEK5USfBUd",
    "outputId": "1bcc274f-9841-4819-9b2b-7ffaadf51de3"
   },
   "outputs": [
    {
     "name": "stdout",
     "output_type": "stream",
     "text": [
      "0.7777777777777778\n",
      "0.7777777777777778\n",
      "0.8055555555555556\n"
     ]
    }
   ],
   "source": [
    "print(accuracy_score(y_test, svc.predict(X_test))) \n",
    "print(accuracy_score(y_test, rbf_svc.predict(X_test)))\n",
    "print(accuracy_score(y_test, poly_svc.predict(X_test)))\n"
   ]
  },
  {
   "cell_type": "code",
   "execution_count": 14,
   "metadata": {
    "colab": {
     "base_uri": "https://localhost:8080/"
    },
    "id": "zlhhRwzEOOwd",
    "outputId": "da78fa01-d4ea-4623-bff7-96fc0eefed0c"
   },
   "outputs": [
    {
     "name": "stdout",
     "output_type": "stream",
     "text": [
      "Linear FUNC\n",
      "[[17  5]\n",
      " [ 3 11]]\n",
      "RBF FUNC\n",
      "[[18  4]\n",
      " [ 4 10]]\n",
      "POLINOMIAL FUNC\n",
      "[[17  5]\n",
      " [ 2 12]]\n"
     ]
    }
   ],
   "source": [
    "\n",
    "from sklearn.metrics import confusion_matrix\n",
    "print(\"Linear FUNC\")\n",
    "print(confusion_matrix(y_test, svc.predict(X_test)))\n",
    "print(\"RBF FUNC\")\n",
    "print(confusion_matrix(y_test, rbf_svc.predict(X_test)))\n",
    "print(\"POLINOMIAL FUNC\")\n",
    "print(confusion_matrix(y_test, poly_svc.predict(X_test)))"
   ]
  },
  {
   "cell_type": "markdown",
   "metadata": {
    "id": "F1Y3YguT4KeO"
   },
   "source": [
    "#### **Part 3: MLP**"
   ]
  },
  {
   "cell_type": "markdown",
   "metadata": {
    "id": "kp_Ra7Pc5Syx"
   },
   "source": [
    "Constructing and training a 3 layered neural network using Pytorch library for digit classification (MNIST)"
   ]
  },
  {
   "cell_type": "code",
   "execution_count": 15,
   "metadata": {
    "id": "DPRYXLzZ5Zae"
   },
   "outputs": [],
   "source": [
    "# required libraries and modules\n",
    "import torch\n",
    "import torch.nn as nn\n",
    "import torch.nn.functional as F\n",
    "import torch.optim as optim\n",
    "\n",
    "import torchvision.datasets as datasets\n",
    "import torchvision.transforms as transforms\n",
    "from torch.autograd import Variable\n",
    "import torchvision.utils\n",
    "import time"
   ]
  },
  {
   "cell_type": "code",
   "execution_count": 16,
   "metadata": {
    "colab": {
     "base_uri": "https://localhost:8080/"
    },
    "id": "epSOPsQa5eez",
    "outputId": "14822bcc-315c-4278-fc26-8bebac54505e"
   },
   "outputs": [
    {
     "name": "stderr",
     "output_type": "stream",
     "text": [
      "/home/yazilimci/.local/lib/python3.8/site-packages/torch/cuda/__init__.py:52: UserWarning: CUDA initialization: Found no NVIDIA driver on your system. Please check that you have an NVIDIA GPU and installed a driver from http://www.nvidia.com/Download/index.aspx (Triggered internally at  /pytorch/c10/cuda/CUDAFunctions.cpp:100.)\n",
      "  return torch._C._cuda_getDeviceCount() > 0\n"
     ]
    },
    {
     "data": {
      "text/plain": [
       "device(type='cpu')"
      ]
     },
     "execution_count": 16,
     "metadata": {},
     "output_type": "execute_result"
    }
   ],
   "source": [
    "# set device\n",
    "device = torch.device('cuda:0' if torch.cuda.is_available() else 'cpu')\n",
    "device"
   ]
  },
  {
   "cell_type": "code",
   "execution_count": 17,
   "metadata": {
    "id": "KjDBv0166pbP"
   },
   "outputs": [],
   "source": [
    "# download MNIST train and test sets using pytorch datasets module \n",
    "datasets.MNIST.download\n",
    "\n",
    "# torchvision.datasets.MNIST outputs a set of PIL images\n",
    "# We transform them to tensors\n",
    "transform = transforms.ToTensor()\n",
    "\n",
    "# Load and transform data\n",
    "train_data = torchvision.datasets.MNIST('', train=True, download=True, transform=transform)\n",
    "# train_data = torch.utils.data.DataLoader(trainset, shuffle=True, num_workers=2)\n",
    "\n",
    "test_data = torchvision.datasets.MNIST('', train=False, download=True, transform=transform)\n",
    "# test_data = torch.utils.data.DataLoader(testset, shuffle=False, num_workers=2)"
   ]
  },
  {
   "cell_type": "code",
   "execution_count": 18,
   "metadata": {
    "colab": {
     "base_uri": "https://localhost:8080/"
    },
    "id": "crKTQkP9UXUP",
    "outputId": "6f68dd52-3a2e-4786-9308-d7d6762f2386"
   },
   "outputs": [
    {
     "data": {
      "text/plain": [
       "Dataset MNIST\n",
       "    Number of datapoints: 60000\n",
       "    Root location: \n",
       "    Split: Train\n",
       "    StandardTransform\n",
       "Transform: ToTensor()"
      ]
     },
     "execution_count": 18,
     "metadata": {},
     "output_type": "execute_result"
    }
   ],
   "source": [
    "# lets look train_data structure\n",
    "train_data"
   ]
  },
  {
   "cell_type": "code",
   "execution_count": 19,
   "metadata": {
    "id": "5MWQRfyVrVYy"
   },
   "outputs": [],
   "source": [
    "# define a display function for sample images using matplotlib\n",
    "def display_sampledata(trainloader):\n",
    "    # convert to numpy array ((C)hannelx(H)eightx(W)idth -> HxWxC )\n",
    "    # plot image using matplotlib\n",
    "    # TO-DO\n",
    "    examples = enumerate(trainloader)\n",
    "    batch_indx, (example_data, example_targets) = next(examples)\n",
    "    \n",
    "    fig = plt.figure()\n",
    "    for i in range(16):\n",
    "      plt.subplot(5,4,i+1)\n",
    "      plt.tight_layout()\n",
    "      plt.imshow(example_data[i][0], cmap='gray', interpolation='none')\n",
    "      plt.title(\"Ground Truth: {}\".format(example_targets[i]))\n",
    "      plt.xticks([])\n",
    "      plt.yticks([])\n",
    "    fig\n",
    "        \n",
    "#     print('Labels: ', example_targets[:12])\n",
    "#     print('Batch shape: ', images.size())\n",
    "    \n",
    "\n",
    "\n"
   ]
  },
  {
   "cell_type": "code",
   "execution_count": 20,
   "metadata": {
    "id": "p028hbAFjgRd"
   },
   "outputs": [],
   "source": [
    "# define a function for displaying the number of parameters\n",
    "def get_netparams(net):\n",
    "  # to-do\n",
    "    return\n",
    "#   return net.shape\n",
    "\n"
   ]
  },
  {
   "cell_type": "code",
   "execution_count": 21,
   "metadata": {
    "id": "prD7NxbMj6UY"
   },
   "outputs": [],
   "source": [
    "# define a function that returns minibatch error in range [0,1]\n",
    "def get_error(predicted_y, y):\n",
    "  err =0.0\n",
    "  for i in range(len(predicted_y)):\n",
    "    if predicted_y[i] == y[i]:\n",
    "      err = err + 1\n",
    "  err = 1 - (err/len(predicted_y))\n",
    "  return err"
   ]
  },
  {
   "cell_type": "code",
   "execution_count": 22,
   "metadata": {
    "id": "cHs4gfWI65d5"
   },
   "outputs": [],
   "source": [
    "# define train and test data loaders\n",
    "batch_size = 100\n",
    "train_loader = torch.utils.data.DataLoader(train_data,batch_size=784,num_workers=2)\n",
    "test_loader = torch.utils.data.DataLoader(test_data, batch_size=784,shuffle=False, num_workers=2)"
   ]
  },
  {
   "cell_type": "code",
   "execution_count": 23,
   "metadata": {
    "colab": {
     "base_uri": "https://localhost:8080/",
     "height": 300
    },
    "id": "rZ5qVNoHq6s0",
    "outputId": "b36de6f7-cfd9-4017-d931-073e6bc59dca"
   },
   "outputs": [
    {
     "data": {
      "image/png": "[encoded data removed]",
      "text/plain": [
       "<Figure size 432x288 with 16 Axes>"
      ]
     },
     "metadata": {},
     "output_type": "display_data"
    }
   ],
   "source": [
    "# get some random 16 images\n",
    "# to-do\n",
    "# show using your display_sampledata function\n",
    "# to-do\n",
    "\n",
    "display_sampledata(train_loader)\n"
   ]
  },
  {
   "cell_type": "code",
   "execution_count": 24,
   "metadata": {
    "id": "36zK7A519FeM"
   },
   "outputs": [],
   "source": [
    "# Design a 3 layered  MLP network\n",
    "class basicMLP(nn.Module):\n",
    "  def __init__(self, input_size, num_hidden_neurons, num_classes):\n",
    "        super(basicMLP, self).__init__()\n",
    "        # define layers\n",
    "        self.lyr1 = nn.Linear(input_size, num_hidden_neurons[0])\n",
    "        self.lyr2 = nn.Linear(num_hidden_neurons[0], num_hidden_neurons[1])\n",
    "        self.lyr3 = nn.Linear(num_hidden_neurons[1], num_classes)\n",
    "        self.relu = nn.ReLU()\n",
    "       \n",
    "  def forward(self, input):\n",
    "    # define forward pass of your NN\n",
    "      input = F.relu(self.lyr1(input))\n",
    "      input = F.relu(self.lyr2(input))\n",
    "      input = self.lyr3(input)\n",
    "      return input \n",
    "    "
   ]
  },
  {
   "cell_type": "code",
   "execution_count": 25,
   "metadata": {
    "colab": {
     "base_uri": "https://localhost:8080/",
     "height": 377
    },
    "id": "DjRvtrT897RD",
    "outputId": "2209545e-8216-4c86-9c5a-cd7c9947ebd5"
   },
   "outputs": [
    {
     "name": "stdout",
     "output_type": "stream",
     "text": [
      "basicMLP(\n",
      "  (lyr1): Linear(in_features=784, out_features=200, bias=True)\n",
      "  (lyr2): Linear(in_features=200, out_features=300, bias=True)\n",
      "  (lyr3): Linear(in_features=300, out_features=10, bias=True)\n",
      "  (relu): ReLU()\n",
      ")\n"
     ]
    }
   ],
   "source": [
    "# create a 3 layered Neural Network instance for given parameters\n",
    "# input size = image size * image size (get from your data shape)\n",
    "# number of hidden neurons: 200 and 300\n",
    "# number of classes: get from your data \n",
    "examples = enumerate(train_loader)\n",
    "batch_idx, (example_data, example_targets) = next(examples)\n",
    "image_size = (example_data[0][0].shape)[0]\n",
    "num_of_target = len(example_targets.unique())\n",
    "net = basicMLP(image_size*image_size,[200,300], num_of_target)\n",
    "net.to(device)\n",
    "print(net)\n",
    "\n",
    "get_netparams(net)"
   ]
  },
  {
   "cell_type": "code",
   "execution_count": 26,
   "metadata": {
    "id": "Rsl2kuF7-Yxf"
   },
   "outputs": [],
   "source": [
    "# define cross entropy as loss function\n",
    "# to-do\n",
    "loss_func = nn.CrossEntropyLoss()\n",
    "# setup the SGD optimizer with learning rate=1.e-2  (also try Adam optimizer later)\n",
    "# to-do\n",
    "sgd_optimizer = optim.SGD(net.parameters(), lr=0.02)\n",
    "adam_optimizer = optim.Adam(net.parameters(), lr=0.001)"
   ]
  },
  {
   "cell_type": "code",
   "execution_count": 28,
   "metadata": {
    "id": "a-3e_Grj-5Hy"
   },
   "outputs": [
    {
     "name": "stdout",
     "output_type": "stream",
     "text": [
      "Epoch [1/5], Step [20/600], Loss: 0.8323 ERR: 0.1671 \n",
      "Epoch [1/5], Step [40/600], Loss: 0.8977 ERR: 0.1926 \n",
      "Epoch [1/5], Step [60/600], Loss: 0.7571 ERR: 0.1837 \n",
      "Epoch [2/5], Step [20/600], Loss: 0.6639 ERR: 0.1390 \n",
      "Epoch [2/5], Step [40/600], Loss: 0.7627 ERR: 0.1684 \n",
      "Epoch [2/5], Step [60/600], Loss: 0.6357 ERR: 0.1607 \n",
      "Epoch [3/5], Step [20/600], Loss: 0.5623 ERR: 0.1237 \n",
      "Epoch [3/5], Step [40/600], Loss: 0.6805 ERR: 0.1620 \n",
      "Epoch [3/5], Step [60/600], Loss: 0.5597 ERR: 0.1492 \n",
      "Epoch [4/5], Step [20/600], Loss: 0.4956 ERR: 0.1122 \n",
      "Epoch [4/5], Step [40/600], Loss: 0.6262 ERR: 0.1467 \n",
      "Epoch [4/5], Step [60/600], Loss: 0.5079 ERR: 0.1416 \n",
      "Epoch [5/5], Step [20/600], Loss: 0.4488 ERR: 0.1046 \n",
      "Epoch [5/5], Step [40/600], Loss: 0.5877 ERR: 0.1403 \n",
      "Epoch [5/5], Step [60/600], Loss: 0.4702 ERR: 0.1390 \n",
      "Elapsed time:  35.15351128578186\n"
     ]
    }
   ],
   "source": [
    "import time  \n",
    "# Train your model over 5 epochs (you can also try longer training)\n",
    "epochs = 5\n",
    "steps = 0\n",
    "# define lists/variables for tracking of the loss, error and the number of batches\n",
    "running_loss = 0 \n",
    "print_every = 20\n",
    "train_losses, train_errors = [], []  \n",
    "train_losses_i, train_errors_i = [], []  \n",
    "start = time.time()\n",
    "for epoch in range(epochs):\n",
    "    for i ,(images,labels) in enumerate(train_loader):\n",
    "        steps += 1\n",
    "        # get data and target as minibatch (also assign to device)\n",
    "        images, labels = images.to(device), labels.to(device)\n",
    "        # reset the gradient\n",
    "        sgd_optimizer.zero_grad()\n",
    "        # a forward pass on your network\n",
    "        log_ = net.forward(images.view(-1,784))\n",
    "        # compute the loss\n",
    "        loss = loss_func(log_, labels)\n",
    "        # a backward pass, back propagation\n",
    "        loss.backward()\n",
    "        # update the network parameters\n",
    "        sgd_optimizer.step()\n",
    "        # get the minibatch error using your get_error function\n",
    "        _, predicted = torch.max(log_, 1) \n",
    "        error = get_error(predicted,labels) \n",
    "        # keep loss, error for each iteration\n",
    "        train_losses_i.append(loss.item())\n",
    "        train_errors_i.append(error)\n",
    "        \n",
    "\n",
    "        if (i+1) % 20 == 0:\n",
    "          print('Epoch [%d/%d], Step [%d/%d], Loss: %.4f ERR: %.4f '%(epoch+1, epochs, i+1, len(train_data)//batch_size, loss.item(), error))\n",
    "        if (i+1) % 1000 ==0:\n",
    "          # save your model\n",
    "          torch.save(net, 'model.pth')\n",
    "              \n",
    "elapsed_time = time.time() - start\n",
    "print(\"Elapsed time: \",elapsed_time)\n",
    " "
   ]
  },
  {
   "cell_type": "code",
   "execution_count": null,
   "metadata": {
    "id": "0RPFgMqW4g-P"
   },
   "outputs": [],
   "source": []
  },
  {
   "cell_type": "code",
   "execution_count": null,
   "metadata": {
    "id": "nFfYJU02_ARm"
   },
   "outputs": [],
   "source": []
  },
  {
   "cell_type": "code",
   "execution_count": null,
   "metadata": {
    "id": "yaOfWq1S3Ffl"
   },
   "outputs": [],
   "source": []
  }
 ],
 "metadata": {
  "accelerator": "GPU",
  "colab": {
   "collapsed_sections": [],
   "name": "hw4.ipynb",
   "provenance": []
  },
  "kernelspec": {
   "display_name": "Python 3",
   "language": "python",
   "name": "python3"
  },
  "language_info": {
   "codemirror_mode": {
    "name": "ipython",
    "version": 3
   },
   "file_extension": ".py",
   "mimetype": "text/x-python",
   "name": "python",
   "nbconvert_exporter": "python",
   "pygments_lexer": "ipython3",
   "version": "3.8.5"
  }
 },
 "nbformat": 4,
 "nbformat_minor": 1
}
